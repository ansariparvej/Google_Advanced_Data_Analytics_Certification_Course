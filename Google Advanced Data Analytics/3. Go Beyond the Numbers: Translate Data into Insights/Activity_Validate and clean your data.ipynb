{
 "cells": [
  {
   "cell_type": "markdown",
   "metadata": {
    "id": "1WD1hC5MTRMS"
   },
   "source": [
    "# Activity: Validate and clean your data"
   ]
  },
  {
   "cell_type": "markdown",
   "metadata": {
    "id": "ee31943b-274e-4c28-bce6-155cb6f4c334"
   },
   "source": [
    "## Introduction\n",
    "\n",
    "In this activity, you will use input validation and label encoding to prepare a dataset for analysis. These are fundamental techniques used in all types of data analysis, from simple linear regression to complex neural networks. \n",
    "\n",
    "In this activity, you are a data professional an investment firm that is attempting to invest in private companies with a valuation of at least $1 billion. These are often known as \"unicorns.\" Your client wants to develop a better understanding of unicorns, with the hope they can be early investors in future highly successful companies. They are particularly interested in the investment strategies of the three top unicorn investors: Sequoia Capital, Tiger Global Management, and Accel. "
   ]
  },
  {
   "cell_type": "markdown",
   "metadata": {
    "id": "4bb9630e-b940-4835-a389-d39def1fa848"
   },
   "source": [
    "## Step 1: Imports"
   ]
  },
  {
   "cell_type": "markdown",
   "metadata": {
    "id": "bc180686-4ae2-47ea-a292-3588ac60a820"
   },
   "source": [
    "Import relevant Python libraries and packages: `numpy`, `pandas`, `seaborn`, and `pyplot` from `matplotlib`."
   ]
  },
  {
   "cell_type": "code",
   "execution_count": 2,
   "metadata": {
    "id": "8e7f1f2c-bbcc-4f3c-b927-b090ee8334c4"
   },
   "outputs": [],
   "source": [
    "# Import libraries and packages.\n",
    "\n",
    "### YOUR CODE HERE ### \n",
    "import pandas as pd\n",
    "import numpy as np\n",
    "import seaborn as sns\n",
    "import matplotlib.pyplot as plt"
   ]
  },
  {
   "cell_type": "markdown",
   "metadata": {
    "id": "7d29c6bd-f194-46bb-b794-56dc20130473"
   },
   "source": [
    "### Load the dataset\n",
    "\n",
    "The data contains details about unicorn companies, such as when they were founded, when they achieved unicorn status, and their current valuation. The dataset `Modified_Unicorn_Companies.csv` is loaded as `companies`, now display the first five rows. The variables in the dataset have been adjusted to suit the objectives of this lab, so they may be different from similar data used in prior labs. As shown in this cell, the dataset has been automatically loaded in for you. You do not need to download the .csv file, or provide more code, in order to access the dataset and proceed with this lab. Please continue with this activity by completing the following instructions."
   ]
  },
  {
   "cell_type": "code",
   "execution_count": 23,
   "metadata": {
    "id": "3bd40d44-080f-4e49-b0c2-160dedc3c4df"
   },
   "outputs": [
    {
     "data": {
      "text/html": [
       "<div>\n",
       "<style scoped>\n",
       "    .dataframe tbody tr th:only-of-type {\n",
       "        vertical-align: middle;\n",
       "    }\n",
       "\n",
       "    .dataframe tbody tr th {\n",
       "        vertical-align: top;\n",
       "    }\n",
       "\n",
       "    .dataframe thead th {\n",
       "        text-align: right;\n",
       "    }\n",
       "</style>\n",
       "<table border=\"1\" class=\"dataframe\">\n",
       "  <thead>\n",
       "    <tr style=\"text-align: right;\">\n",
       "      <th></th>\n",
       "      <th>Company</th>\n",
       "      <th>Valuation</th>\n",
       "      <th>Date Joined</th>\n",
       "      <th>Industry</th>\n",
       "      <th>City</th>\n",
       "      <th>Country/Region</th>\n",
       "      <th>Continent</th>\n",
       "      <th>Year Founded</th>\n",
       "      <th>Funding</th>\n",
       "      <th>Select Investors</th>\n",
       "    </tr>\n",
       "  </thead>\n",
       "  <tbody>\n",
       "    <tr>\n",
       "      <th>0</th>\n",
       "      <td>Bytedance</td>\n",
       "      <td>180</td>\n",
       "      <td>2017-04-07</td>\n",
       "      <td>Artificial intelligence</td>\n",
       "      <td>Beijing</td>\n",
       "      <td>China</td>\n",
       "      <td>Asia</td>\n",
       "      <td>2012</td>\n",
       "      <td>$8B</td>\n",
       "      <td>Sequoia Capital China, SIG Asia Investments, S...</td>\n",
       "    </tr>\n",
       "    <tr>\n",
       "      <th>1</th>\n",
       "      <td>SpaceX</td>\n",
       "      <td>100</td>\n",
       "      <td>2012-12-01</td>\n",
       "      <td>Other</td>\n",
       "      <td>Hawthorne</td>\n",
       "      <td>United States</td>\n",
       "      <td>North America</td>\n",
       "      <td>2002</td>\n",
       "      <td>$7B</td>\n",
       "      <td>Founders Fund, Draper Fisher Jurvetson, Rothen...</td>\n",
       "    </tr>\n",
       "    <tr>\n",
       "      <th>2</th>\n",
       "      <td>SHEIN</td>\n",
       "      <td>100</td>\n",
       "      <td>2018-07-03</td>\n",
       "      <td>E-commerce &amp; direct-to-consumer</td>\n",
       "      <td>Shenzhen</td>\n",
       "      <td>China</td>\n",
       "      <td>Asia</td>\n",
       "      <td>2008</td>\n",
       "      <td>$2B</td>\n",
       "      <td>Tiger Global Management, Sequoia Capital China...</td>\n",
       "    </tr>\n",
       "    <tr>\n",
       "      <th>3</th>\n",
       "      <td>Stripe</td>\n",
       "      <td>95</td>\n",
       "      <td>2014-01-23</td>\n",
       "      <td>FinTech</td>\n",
       "      <td>San Francisco</td>\n",
       "      <td>United States</td>\n",
       "      <td>North America</td>\n",
       "      <td>2010</td>\n",
       "      <td>$2B</td>\n",
       "      <td>Khosla Ventures, LowercaseCapital, capitalG</td>\n",
       "    </tr>\n",
       "    <tr>\n",
       "      <th>4</th>\n",
       "      <td>Klarna</td>\n",
       "      <td>46</td>\n",
       "      <td>2011-12-12</td>\n",
       "      <td>Fintech</td>\n",
       "      <td>Stockholm</td>\n",
       "      <td>Sweden</td>\n",
       "      <td>Europe</td>\n",
       "      <td>2005</td>\n",
       "      <td>$4B</td>\n",
       "      <td>Institutional Venture Partners, Sequoia Capita...</td>\n",
       "    </tr>\n",
       "  </tbody>\n",
       "</table>\n",
       "</div>"
      ],
      "text/plain": [
       "     Company  Valuation Date Joined                         Industry  \\\n",
       "0  Bytedance        180  2017-04-07          Artificial intelligence   \n",
       "1     SpaceX        100  2012-12-01                            Other   \n",
       "2      SHEIN        100  2018-07-03  E-commerce & direct-to-consumer   \n",
       "3     Stripe         95  2014-01-23                          FinTech   \n",
       "4     Klarna         46  2011-12-12                          Fintech   \n",
       "\n",
       "            City Country/Region      Continent  Year Founded Funding  \\\n",
       "0        Beijing          China           Asia          2012     $8B   \n",
       "1      Hawthorne  United States  North America          2002     $7B   \n",
       "2       Shenzhen          China           Asia          2008     $2B   \n",
       "3  San Francisco  United States  North America          2010     $2B   \n",
       "4      Stockholm         Sweden         Europe          2005     $4B   \n",
       "\n",
       "                                    Select Investors  \n",
       "0  Sequoia Capital China, SIG Asia Investments, S...  \n",
       "1  Founders Fund, Draper Fisher Jurvetson, Rothen...  \n",
       "2  Tiger Global Management, Sequoia Capital China...  \n",
       "3        Khosla Ventures, LowercaseCapital, capitalG  \n",
       "4  Institutional Venture Partners, Sequoia Capita...  "
      ]
     },
     "execution_count": 23,
     "metadata": {},
     "output_type": "execute_result"
    }
   ],
   "source": [
    "# RUN THIS CELL TO IMPORT YOUR DATA. \n",
    "\n",
    "### YOUR CODE HERE ### \n",
    "companies = pd.read_csv('Modified_Unicorn_Companies.csv')\n",
    "\n",
    "# Display the first five rows.\n",
    "\n",
    "### YOUR CODE HERE ### \n",
    "companies.head(5)"
   ]
  },
  {
   "cell_type": "markdown",
   "metadata": {
    "id": "95bf39c9-d05c-4324-a40b-bc692607b61b"
   },
   "source": [
    "## Step 2: Data cleaning\n"
   ]
  },
  {
   "cell_type": "markdown",
   "metadata": {
    "id": "ad17d09c-c829-4e88-9089-83060d1adf91"
   },
   "source": [
    "Begin by displaying the data types of the columns in `companies`."
   ]
  },
  {
   "cell_type": "code",
   "execution_count": 24,
   "metadata": {
    "id": "5340b9fd-a9e1-4943-b546-eece0049dc3b"
   },
   "outputs": [
    {
     "data": {
      "text/plain": [
       "Company             object\n",
       "Valuation            int64\n",
       "Date Joined         object\n",
       "Industry            object\n",
       "City                object\n",
       "Country/Region      object\n",
       "Continent           object\n",
       "Year Founded         int64\n",
       "Funding             object\n",
       "Select Investors    object\n",
       "dtype: object"
      ]
     },
     "execution_count": 24,
     "metadata": {},
     "output_type": "execute_result"
    }
   ],
   "source": [
    "# Display the data types of the columns.\n",
    "\n",
    "### YOUR CODE HERE ###\n",
    "companies.dtypes\n"
   ]
  },
  {
   "cell_type": "markdown",
   "metadata": {
    "id": "f155353c-d39d-436e-b0de-3cb0777c831e"
   },
   "source": [
    "<details>\n",
    "  <summary><h4><strong>Hint 1</strong></h4></summary>\n",
    "\n",
    "Review what you have learned about exploratory data analysis in Python.\n",
    "\n",
    "</details>"
   ]
  },
  {
   "cell_type": "markdown",
   "metadata": {
    "id": "a0c1a503-ccec-44a9-baaf-a89eabf363cf"
   },
   "source": [
    "<details>\n",
    "  <summary><h4><strong>Hint 2</strong></h4></summary>\n",
    "\n",
    "There is a `pandas` DataFrame property that displays the data types of the columns in the specified DataFrame.\n",
    " \n",
    "\n",
    "</details>"
   ]
  },
  {
   "cell_type": "markdown",
   "metadata": {
    "id": "0566888c-aa4d-4dec-966b-d99959fc05f0"
   },
   "source": [
    "<details>\n",
    "  <summary><h4><strong>Hint 3</strong></h4></summary>\n",
    "\n",
    "  The `pandas` DataFrame `dtypes` property will be helpful.\n",
    "\n",
    "</details>"
   ]
  },
  {
   "cell_type": "markdown",
   "metadata": {
    "id": "0dbc048f-cd6d-4e52-93a9-21ec30ce055b"
   },
   "source": [
    "### Correct the data types"
   ]
  },
  {
   "cell_type": "markdown",
   "metadata": {
    "id": "ad280560-d6db-4fcd-ba70-2c16389e12fd"
   },
   "source": [
    "If any of the data types in `companies` are incorrect, fix them and save them back to `companies`."
   ]
  },
  {
   "cell_type": "code",
   "execution_count": 25,
   "metadata": {
    "id": "1793ad8d-659a-4fc9-aa8a-570f063ca0d3"
   },
   "outputs": [],
   "source": [
    "# Apply necessary datatype conversions.\n",
    "\n",
    "### YOUR CODE HERE ###\n",
    "companies['Date Joined'] = pd.to_datetime(companies['Date Joined'])"
   ]
  },
  {
   "cell_type": "markdown",
   "metadata": {
    "id": "1ea7364c-a5be-4c3a-ae8d-24a0ac497973"
   },
   "source": [
    "### Create a new column"
   ]
  },
  {
   "cell_type": "markdown",
   "metadata": {
    "id": "6ed05e76-0a66-4ea3-9796-39afb48eeb93"
   },
   "source": [
    "Add a column called `Years To Unicorn`, which is the number of years between when the company was founded and when it became a unicorn."
   ]
  },
  {
   "cell_type": "code",
   "execution_count": 26,
   "metadata": {
    "id": "3d495d71-39af-4d3f-80fd-0d0a22b01532"
   },
   "outputs": [],
   "source": [
    "# Create the column Years To Unicorn.\n",
    "\n",
    "### YOUR CODE HERE ###\n",
    "companies['Years To Unicorn'] = companies['Date Joined'].dt.year - companies['Year Founded']\n"
   ]
  },
  {
   "cell_type": "markdown",
   "metadata": {
    "id": "4a576b71-1047-48ab-abe9-c5e8d1b67d26"
   },
   "source": [
    "<details>\n",
    "  <summary><h4><strong>Hint 1</strong></h4></summary>\n",
    "\n",
    "Extract just the year from the `Date Joined` column. \n",
    "\n",
    "</details>"
   ]
  },
  {
   "cell_type": "markdown",
   "metadata": {
    "id": "21584921-1d6a-42ab-8f04-9793c7d5cee2"
   },
   "source": [
    "<details>\n",
    "  <summary><h4><strong>Hint 2</strong></h4></summary>\n",
    "\n",
    "  Use `dt.year` to access the year of a datetime object.\n",
    "\n",
    "</details>"
   ]
  },
  {
   "cell_type": "markdown",
   "metadata": {
    "id": "aea4d087-51f5-4b0f-b4c4-18b1acfe0c0d"
   },
   "source": [
    "<details>\n",
    "  <summary><h4><strong>Hint 3</strong></h4></summary>\n",
    "\n",
    "Subtract the `Year Founded` from the `Date Joined`, and save it to a new column called `Years To Unicorn`.\n",
    "  \n",
    "Ensure you're properly extracting just the year (as an integer) from `Date Joined`.\n",
    "\n",
    "</details>"
   ]
  },
  {
   "cell_type": "markdown",
   "metadata": {
    "id": "fb06c26b-70b7-4b05-9347-6675b8b329d3"
   },
   "source": [
    "**QUESTION: Why might your client be interested in how quickly a company achieved unicorn status?**"
   ]
  },
  {
   "cell_type": "markdown",
   "metadata": {
    "id": "ac6a0172-611e-4a1c-9afd-a39b489cbdee"
   },
   "source": [
    "Learning how quickly a company achieves unicorn status may reveal certain trends or commonalities. Your client could leverage this information to find future companies to invest in."
   ]
  },
  {
   "cell_type": "markdown",
   "metadata": {
    "id": "9fc9ddf1-ece0-40fb-9281-0808c193f5da",
    "tags": []
   },
   "source": [
    "### Input validation\n",
    "\n",
    "The data has some issues with bad data, duplicate rows, and inconsistent `Industry` labels.\n",
    "\n",
    "Identify and correct each of these issues."
   ]
  },
  {
   "cell_type": "markdown",
   "metadata": {
    "id": "db0651e7-36ef-4c10-a3ba-97373167da64",
    "tags": []
   },
   "source": [
    "Analyze the `Years To Unicorn` column and fix any issues with the data. Use your best judgement on the best approach to correct errors."
   ]
  },
  {
   "cell_type": "code",
   "execution_count": 27,
   "metadata": {
    "id": "8b1b2ad0-a668-4290-9404-5a2541955c0d"
   },
   "outputs": [
    {
     "name": "stdout",
     "output_type": "stream",
     "text": [
      "Companies with a negative Years To Unicorn (before cleaning):\n",
      "['InVision']\n",
      "Companies with a negative Years To Unicorn (after cleaning):\n",
      "[]\n"
     ]
    }
   ],
   "source": [
    "# Identify and correct the issue with Years To Unicorn.\n",
    "\n",
    "### YOUR CODE HERE ###\n",
    "\n",
    "print('Companies with a negative Years To Unicorn (before cleaning):')\n",
    "\n",
    "# Determine which companies have a negative years to unicorn\n",
    "print(companies[companies['Years To Unicorn'] < 0]['Company'].values)\n",
    "\n",
    "# Replacing the Year Founded for InVision with 2011 (which was determined from an internet search)\n",
    "companies.loc[companies['Company'] == 'InVision', 'Year Founded'] = 2011\n",
    "\n",
    "# Recalculating the Years to Unicorn column (to correct Invision's value)\n",
    "companies['Years To Unicorn'] = companies['Date Joined'].dt.year - companies['Year Founded']\n",
    "\n",
    "# Calculate which companies have a negative years to unicorn to ensure data was properly cleaned\n",
    "print('Companies with a negative Years To Unicorn (after cleaning):')\n",
    "print(companies[companies['Years To Unicorn'] < 0]['Company'].values)\n"
   ]
  },
  {
   "cell_type": "markdown",
   "metadata": {
    "id": "80974b46-b7f9-4181-a90d-a6fa927a710b"
   },
   "source": [
    "<details>\n",
    "  <summary><h4><strong>Hint 1</strong></h4></summary>\n",
    "\n",
    "A company cannot reach unicorn status before it is founded. In other words, `Years to Unicorn` cannot be less than 0.\n",
    "\n",
    "</details>"
   ]
  },
  {
   "cell_type": "markdown",
   "metadata": {
    "id": "7d7e351d-368e-45ab-8e8a-5f1aded15655"
   },
   "source": [
    "<details>\n",
    "  <summary><h4><strong>Hint 2</strong></h4></summary>\n",
    "\n",
    "Find the company that has a negative `Years to Unicorn`, and use an internet search to determine which date for that company is incorrect.\n",
    "    \n",
    "Either drop this row from the analysis or replace the incorrect value with the correct one found by your internet search.\n",
    "\n",
    "</details>"
   ]
  },
  {
   "cell_type": "markdown",
   "metadata": {
    "id": "8b325a5a-67d2-4f92-8159-a9f4c21b1779"
   },
   "source": [
    "The company provided you with the following list of industry labels to identify in the data for `Industry`. Note: Any industry labels that are in companies but not in industry_list are misspellings."
   ]
  },
  {
   "cell_type": "code",
   "execution_count": 28,
   "metadata": {
    "id": "b02348fb-dde8-43e7-9368-4d771bf6e5a7"
   },
   "outputs": [],
   "source": [
    "# List provided by the company of the expected industry labels in the data\n",
    "industry_list = ['Artificial intelligence', 'Other','E-commerce & direct-to-consumer', 'Fintech',\\\n",
    "       'Internet software & services','Supply chain, logistics, & delivery', 'Consumer & retail',\\\n",
    "       'Data management & analytics', 'Edtech', 'Health', 'Hardware','Auto & transportation', \\\n",
    "        'Travel', 'Cybersecurity','Mobile & telecommunications']"
   ]
  },
  {
   "cell_type": "markdown",
   "metadata": {
    "id": "739430f4-97ce-43d4-a982-3f75f3823702"
   },
   "source": [
    "Verify the industry labels provided by the business are the only possible values in `Industry`. If there are additional labels, correct the data so only the preceding labels are present in `Industry`."
   ]
  },
  {
   "cell_type": "code",
   "execution_count": 32,
   "metadata": {
    "id": "6b89463a-6426-4797-a62e-b7b26f0b2f3b"
   },
   "outputs": [
    {
     "name": "stdout",
     "output_type": "stream",
     "text": [
      "18\n",
      "15\n"
     ]
    }
   ],
   "source": [
    "# Correct misspelled Industry values in companies.\n",
    "\n",
    "### YOUR CODE HERE ###\n",
    "\n",
    "print(companies['Industry'].nunique())\n",
    "\n",
    "# Define a dictionary that maps the incorrect industry spellings to their correct industry spelling\n",
    "industry_dct = {'Artificial Intelligence':'Artificial intelligence',\n",
    "                'Data management and analytics':'Data management & analytics',\n",
    "                'FinTech':'Fintech'}\n",
    "companies['Industry'] = companies['Industry'].replace(industry_dct)\n",
    "\n",
    "print(companies['Industry'].nunique())"
   ]
  },
  {
   "cell_type": "markdown",
   "metadata": {
    "id": "65909471-2b17-4d8d-b734-6d895029dc7d"
   },
   "source": [
    "<details>\n",
    "  <summary><h4><strong>Hint 1</strong></h4></summary>\n",
    "\n",
    "Use `unique()` to access the unique values in a `pandas` Series.\n",
    "    \n",
    "</details>"
   ]
  },
  {
   "cell_type": "markdown",
   "metadata": {
    "id": "c12d89ac-bcd3-4912-9faf-507b70b4b060"
   },
   "source": [
    "<details>\n",
    "  <summary><h4><strong>Hint 2</strong></h4></summary>\n",
    "\n",
    "Compare the values in `industry_list` to the unique industries in `Industry`.\n",
    "\n",
    "</details>"
   ]
  },
  {
   "cell_type": "markdown",
   "metadata": {
    "id": "ee540c14-f0b2-4544-ae10-44ec9a937285"
   },
   "source": [
    "<details>\n",
    "  <summary><h4><strong>Hint 3</strong></h4></summary>   \n",
    "\n",
    "The `replace()` function in `pandas` can replace the incorrect strings in `Industry` with the correct ones.    \n",
    "    \n",
    "</details>"
   ]
  },
  {
   "cell_type": "markdown",
   "metadata": {
    "id": "121e1b7c-845f-4cee-a973-aebd41411dd2"
   },
   "source": [
    "The business mentioned that no `Company` should appear in the data more than once. Verify that this is true, and, if not, clean the data so each `Company` appears only once."
   ]
  },
  {
   "cell_type": "code",
   "execution_count": 35,
   "metadata": {
    "id": "0850371d-4cf8-4f06-9e41-b3baa842d86c"
   },
   "outputs": [
    {
     "name": "stdout",
     "output_type": "stream",
     "text": [
      "Number of duplicated companies (before cleaning):\n",
      "3\n",
      "\n",
      "Number of duplicated companies (after cleaning):\n",
      "0\n"
     ]
    }
   ],
   "source": [
    "# Check and remove duplicate Company values in companies.\n",
    "\n",
    "### YOUR CODE HERE ###\n",
    "# Calculate the number of duplicated companies before cleaning\n",
    "print('Number of duplicated companies (before cleaning):')\n",
    "print(companies['Company'].duplicated().sum())\n",
    "\n",
    "companies.drop_duplicates(subset=['Company'],inplace=True)\n",
    "\n",
    "print('')\n",
    "print('Number of duplicated companies (after cleaning):')\n",
    "print(companies['Company'].duplicated().sum())"
   ]
  },
  {
   "cell_type": "markdown",
   "metadata": {
    "id": "5509aa2a-0f77-4709-917e-4ef83eaa79c2"
   },
   "source": [
    "<details>\n",
    "  <summary><h4><strong>Hint 1</strong></h4></summary>\n",
    "\n",
    "Check for duplicated rows in `Company`, not just the whole data. \n",
    "    \n",
    "</details>"
   ]
  },
  {
   "cell_type": "markdown",
   "metadata": {
    "id": "da7c47e2-a600-4642-a8c8-a60cf28182c6"
   },
   "source": [
    "<details>\n",
    "  <summary><h4><strong>Hint 2</strong></h4></summary>\n",
    "\n",
    "The `pandas` `duplicated()` function can indentify duplicated rows. Apply it to the `Company` column in `companies` to find which companies appear more than once.\n",
    "    \n",
    "</details>"
   ]
  },
  {
   "cell_type": "markdown",
   "metadata": {
    "id": "56b46f38-bc99-43e9-8cde-b124ae8bf8e9"
   },
   "source": [
    "<details>\n",
    "  <summary><h4><strong>Hint 3</strong></h4></summary>\n",
    "\n",
    "Remove duplicate rows with `drop_duplicates()`, or remove rows based off of their indices.\n",
    "    \n",
    "</details>"
   ]
  },
  {
   "cell_type": "markdown",
   "metadata": {
    "id": "adf88963-afa4-4d4d-a0f6-453eb3542bcb",
    "tags": []
   },
   "source": [
    "**Question: Why is it important to perform input validation?**"
   ]
  },
  {
   "cell_type": "markdown",
   "metadata": {
    "id": "ea72a5b9-42cd-4773-a741-f9fca07379fd"
   },
   "source": [
    "Input validation is an essential practice for ensuring data is complete, error-free, and high quality. A low-quality dataset may lend itself to an analysis that is incorrect or misleading."
   ]
  },
  {
   "cell_type": "markdown",
   "metadata": {
    "id": "2414c767-3950-4477-8822-59dfb82d8b1b"
   },
   "source": [
    "**Question: What steps did you take to perform input validation for this dataset?**"
   ]
  },
  {
   "cell_type": "markdown",
   "metadata": {
    "id": "0b6edaeb-6561-4201-b2d8-2c11ed8837c1"
   },
   "source": [
    "The input validation steps for this lab included:\n",
    "\n",
    "Fixing incorrect values\n",
    "\n",
    "Correcting inconsistencies in the data\n",
    "\n",
    "Removing duplicate data"
   ]
  },
  {
   "cell_type": "markdown",
   "metadata": {
    "id": "w_HtFyHrXVAc"
   },
   "source": [
    "### Change categorical data to numerical data\n",
    "\n",
    "Two common methods for changing categorical data to numerical are creating dummy variables and label encoding. There is no best method, as the decision on which method to use depends on the context and must be made on a case-to-case basis.\n",
    "\n",
    "Using what you've learned so far, apply the appropriate methods for converting the following variables to numeric: `Valuation`,  `Continent`, `Country/Region`, and `Industry`."
   ]
  },
  {
   "cell_type": "markdown",
   "metadata": {
    "id": "3c03f2b7-8262-4ea5-94dd-53ee5f219cc7"
   },
   "source": [
    "Create a 'simplified' representation of `Valuation` with two categories: one that denotes if the `Valuation` was in the top 50% of valuations in the data and one if it was not."
   ]
  },
  {
   "cell_type": "code",
   "execution_count": 42,
   "metadata": {
    "id": "646aaace-82a5-4b73-822a-27475822de4a"
   },
   "outputs": [
    {
     "data": {
      "text/html": [
       "<div>\n",
       "<style scoped>\n",
       "    .dataframe tbody tr th:only-of-type {\n",
       "        vertical-align: middle;\n",
       "    }\n",
       "\n",
       "    .dataframe tbody tr th {\n",
       "        vertical-align: top;\n",
       "    }\n",
       "\n",
       "    .dataframe thead th {\n",
       "        text-align: right;\n",
       "    }\n",
       "</style>\n",
       "<table border=\"1\" class=\"dataframe\">\n",
       "  <thead>\n",
       "    <tr style=\"text-align: right;\">\n",
       "      <th></th>\n",
       "      <th>Company</th>\n",
       "      <th>Valuation</th>\n",
       "      <th>Date Joined</th>\n",
       "      <th>Industry</th>\n",
       "      <th>City</th>\n",
       "      <th>Country/Region</th>\n",
       "      <th>Continent</th>\n",
       "      <th>Year Founded</th>\n",
       "      <th>Funding</th>\n",
       "      <th>Select Investors</th>\n",
       "      <th>Years To Unicorn</th>\n",
       "      <th>High Valuation</th>\n",
       "    </tr>\n",
       "  </thead>\n",
       "  <tbody>\n",
       "    <tr>\n",
       "      <th>0</th>\n",
       "      <td>Bytedance</td>\n",
       "      <td>180</td>\n",
       "      <td>2017-04-07</td>\n",
       "      <td>Artificial intelligence</td>\n",
       "      <td>Beijing</td>\n",
       "      <td>China</td>\n",
       "      <td>Asia</td>\n",
       "      <td>2012</td>\n",
       "      <td>$8B</td>\n",
       "      <td>Sequoia Capital China, SIG Asia Investments, S...</td>\n",
       "      <td>5</td>\n",
       "      <td>1</td>\n",
       "    </tr>\n",
       "    <tr>\n",
       "      <th>1</th>\n",
       "      <td>SpaceX</td>\n",
       "      <td>100</td>\n",
       "      <td>2012-12-01</td>\n",
       "      <td>Other</td>\n",
       "      <td>Hawthorne</td>\n",
       "      <td>United States</td>\n",
       "      <td>North America</td>\n",
       "      <td>2002</td>\n",
       "      <td>$7B</td>\n",
       "      <td>Founders Fund, Draper Fisher Jurvetson, Rothen...</td>\n",
       "      <td>10</td>\n",
       "      <td>1</td>\n",
       "    </tr>\n",
       "    <tr>\n",
       "      <th>2</th>\n",
       "      <td>SHEIN</td>\n",
       "      <td>100</td>\n",
       "      <td>2018-07-03</td>\n",
       "      <td>E-commerce &amp; direct-to-consumer</td>\n",
       "      <td>Shenzhen</td>\n",
       "      <td>China</td>\n",
       "      <td>Asia</td>\n",
       "      <td>2008</td>\n",
       "      <td>$2B</td>\n",
       "      <td>Tiger Global Management, Sequoia Capital China...</td>\n",
       "      <td>10</td>\n",
       "      <td>1</td>\n",
       "    </tr>\n",
       "    <tr>\n",
       "      <th>3</th>\n",
       "      <td>Stripe</td>\n",
       "      <td>95</td>\n",
       "      <td>2014-01-23</td>\n",
       "      <td>Fintech</td>\n",
       "      <td>San Francisco</td>\n",
       "      <td>United States</td>\n",
       "      <td>North America</td>\n",
       "      <td>2010</td>\n",
       "      <td>$2B</td>\n",
       "      <td>Khosla Ventures, LowercaseCapital, capitalG</td>\n",
       "      <td>4</td>\n",
       "      <td>1</td>\n",
       "    </tr>\n",
       "    <tr>\n",
       "      <th>4</th>\n",
       "      <td>Klarna</td>\n",
       "      <td>46</td>\n",
       "      <td>2011-12-12</td>\n",
       "      <td>Fintech</td>\n",
       "      <td>Stockholm</td>\n",
       "      <td>Sweden</td>\n",
       "      <td>Europe</td>\n",
       "      <td>2005</td>\n",
       "      <td>$4B</td>\n",
       "      <td>Institutional Venture Partners, Sequoia Capita...</td>\n",
       "      <td>6</td>\n",
       "      <td>1</td>\n",
       "    </tr>\n",
       "  </tbody>\n",
       "</table>\n",
       "</div>"
      ],
      "text/plain": [
       "     Company  Valuation Date Joined                         Industry  \\\n",
       "0  Bytedance        180  2017-04-07          Artificial intelligence   \n",
       "1     SpaceX        100  2012-12-01                            Other   \n",
       "2      SHEIN        100  2018-07-03  E-commerce & direct-to-consumer   \n",
       "3     Stripe         95  2014-01-23                          Fintech   \n",
       "4     Klarna         46  2011-12-12                          Fintech   \n",
       "\n",
       "            City Country/Region      Continent  Year Founded Funding  \\\n",
       "0        Beijing          China           Asia          2012     $8B   \n",
       "1      Hawthorne  United States  North America          2002     $7B   \n",
       "2       Shenzhen          China           Asia          2008     $2B   \n",
       "3  San Francisco  United States  North America          2010     $2B   \n",
       "4      Stockholm         Sweden         Europe          2005     $4B   \n",
       "\n",
       "                                    Select Investors  Years To Unicorn  \\\n",
       "0  Sequoia Capital China, SIG Asia Investments, S...                 5   \n",
       "1  Founders Fund, Draper Fisher Jurvetson, Rothen...                10   \n",
       "2  Tiger Global Management, Sequoia Capital China...                10   \n",
       "3        Khosla Ventures, LowercaseCapital, capitalG                 4   \n",
       "4  Institutional Venture Partners, Sequoia Capita...                 6   \n",
       "\n",
       "   High Valuation  \n",
       "0               1  \n",
       "1               1  \n",
       "2               1  \n",
       "3               1  \n",
       "4               1  "
      ]
     },
     "execution_count": 42,
     "metadata": {},
     "output_type": "execute_result"
    }
   ],
   "source": [
    "# Convert Valuation to numeric.\n",
    "\n",
    "### YOUR CODE HERE ###\n",
    "companies['High Valuation'] = pd.qcut(companies['Valuation'],2,labels=['No','Yes'])\n",
    "\n",
    "companies['High Valuation'] = companies['High Valuation'].cat.codes\n",
    "companies.head()    "
   ]
  },
  {
   "cell_type": "markdown",
   "metadata": {
    "id": "3f610ee9-ef9d-4451-8667-edc8b4d803b9"
   },
   "source": [
    "<details>\n",
    "  <summary><h4><strong>Hint 1</strong></h4></summary>\n",
    "\n",
    "Review what you've learned about organizing data into equal quantiles.\n",
    "    \n",
    "</details>"
   ]
  },
  {
   "cell_type": "markdown",
   "metadata": {
    "id": "97caea9d-0d55-45ba-be01-d90260610d95"
   },
   "source": [
    "<details>\n",
    "  <summary><h4><strong>Hint 2</strong></h4></summary>\n",
    "\n",
    "Divide the data into two equal quantiles. Then, convert the categories created in the first step to numeric. \n",
    "    \n",
    "</details>"
   ]
  },
  {
   "cell_type": "markdown",
   "metadata": {
    "id": "a606f612-aa34-46e3-b39f-c6f39b7e5dbd"
   },
   "source": [
    "<details>\n",
    "  <summary><h4><strong>Hint 3</strong></h4></summary>\n",
    "\n",
    "Use `pandas` `qcut()` to divide the data into equal sized buckets. Use `.cat.codes` to convert categorical labels to numeric. \n",
    "    \n",
    "</details>"
   ]
  },
  {
   "cell_type": "markdown",
   "metadata": {
    "id": "6f5107f1-3694-4296-b857-b1e44ce2b09b"
   },
   "source": [
    "### Convert `Continent` to numeric"
   ]
  },
  {
   "cell_type": "code",
   "execution_count": 50,
   "metadata": {
    "id": "bbd72ed4-5cac-41f7-a816-3a4d28e34eb4"
   },
   "outputs": [],
   "source": [
    "# Convert Continent to numeric data.\n",
    "\n",
    "### YOUR CODE HERE ###\n",
    "continents_encoded = pd.get_dummies(companies['Continent'], drop_first=True)\n",
    "\n",
    "companies = pd.concat([companies,continents_encoded],axis=1)"
   ]
  },
  {
   "cell_type": "markdown",
   "metadata": {
    "id": "34f1f513-2d9f-4da7-b884-6a6714b7652e"
   },
   "source": [
    "<details>\n",
    "  <summary><h4><strong>Hint 1</strong></h4></summary>\n",
    "\n",
    "Consider whether there are many or few unique `Continent` variables.\n",
    "    \n",
    "</details>"
   ]
  },
  {
   "cell_type": "markdown",
   "metadata": {
    "id": "7a50297e-1911-4fa8-ad2e-e435f98b2472"
   },
   "source": [
    "<details>\n",
    "  <summary><h4><strong>Hint 2</strong></h4></summary>\n",
    "\n",
    "Consider whether `Continent` data is in a particular order.\n",
    "    \n",
    "</details>"
   ]
  },
  {
   "cell_type": "markdown",
   "metadata": {
    "id": "8d18b366-4e9b-48a9-ba4f-ca2460dbe398"
   },
   "source": [
    "<details>\n",
    "  <summary><h4><strong>Hint 3</strong></h4></summary>\n",
    "\n",
    "Two useful functions are `get_dummies()` and `pd.concat()`.\n",
    "    \n",
    "</details>"
   ]
  },
  {
   "cell_type": "markdown",
   "metadata": {
    "id": "2c95b77d-7cda-46ba-975f-8632aaa6158d",
    "tags": []
   },
   "source": [
    "### Convert `Country/Region` to numeric"
   ]
  },
  {
   "cell_type": "code",
   "execution_count": 54,
   "metadata": {
    "id": "c3bd716a-7845-4c3c-988c-3b227c10e036"
   },
   "outputs": [],
   "source": [
    "# Convert Country/Region to numeric data.\n",
    "\n",
    "### YOUR CODE HERE ###\n",
    "companies['Country/Region'] = companies['Country/Region'].astype('category').cat.codes"
   ]
  },
  {
   "cell_type": "markdown",
   "metadata": {
    "id": "ce4eb04d-d2d3-454c-a273-0815b1d1a95a"
   },
   "source": [
    "<details>\n",
    "  <summary><h4><strong>Hint 1</strong></h4></summary>\n",
    "\n",
    "Review what you have learned about converting a variable with a string/object data type to a category.\n",
    "    \n",
    "</details>"
   ]
  },
  {
   "cell_type": "markdown",
   "metadata": {
    "id": "20f3231c-289c-49c2-9c02-c15bcac64a92"
   },
   "source": [
    "<details>\n",
    "  <summary><h4><strong>Hint 2</strong></h4></summary>\n",
    "\n",
    "Consider whether there are many or few unique `Country/Region` variables.\n",
    "\n",
    "    \n",
    "</details>"
   ]
  },
  {
   "cell_type": "markdown",
   "metadata": {
    "id": "85da6784-6c66-43e2-ab3a-80c7e733dc0b"
   },
   "source": [
    "<details>\n",
    "  <summary><h4><strong>Hint 3</strong></h4></summary>\n",
    "\n",
    "To use label encoding, apply `.astype('category').cat.codes` to the `Country/Region` in `companies`.\n",
    "    \n",
    "To use dummy variables, two useful functions are `get_dummies()` and `pd.concat()`.\n",
    "    \n",
    "</details>"
   ]
  },
  {
   "cell_type": "markdown",
   "metadata": {
    "id": "2eeff065-469f-4a43-bf2a-87920c4d7bc0"
   },
   "source": [
    "### Convert `Industry` to numeric"
   ]
  },
  {
   "cell_type": "code",
   "execution_count": 57,
   "metadata": {
    "id": "4bca4703-9f76-4b59-bc5e-df0097e44b4a"
   },
   "outputs": [],
   "source": [
    "# Convert Industry to numeric data.\n",
    "\n",
    "### YOUR CODE HERE ###\n",
    "industry_encoded = pd.get_dummies(companies['Industry'],drop_first=True)\n",
    "\n",
    "companies = pd.concat([companies,industry_encoded],axis=1)"
   ]
  },
  {
   "cell_type": "markdown",
   "metadata": {
    "id": "adc26824-609c-4a9b-a5d7-c3abfb5258e1"
   },
   "source": [
    "<details>\n",
    "  <summary><h4><strong>Hint 1</strong></h4></summary>\n",
    "\n",
    "Consider whether there are many or few unique `Industry` variables.\n",
    "\n",
    "    \n",
    "</details>"
   ]
  },
  {
   "cell_type": "markdown",
   "metadata": {
    "id": "5f2bf2c6-fc4b-4d5f-b985-dd8fe5a7d87d"
   },
   "source": [
    "<details>\n",
    "  <summary><h4><strong>Hint 2</strong></h4></summary>\n",
    "\n",
    "Review what you have learned about converting a variable with a string/object data type to a category.\n",
    "\n",
    "    \n",
    "</details>"
   ]
  },
  {
   "cell_type": "markdown",
   "metadata": {
    "id": "fa14d383-ff64-4249-b51b-8026618a4571"
   },
   "source": [
    "<details>\n",
    "  <summary><h4><strong>Hint 3</strong></h4></summary>\n",
    "\n",
    "To use label encoding, apply `.astype('category').cat.codes` to the `Country/Region` in `companies`.\n",
    "    \n",
    "To use dummy variables, two useful functions are `get_dummies()` and `pd.concat()`.\n",
    "    \n",
    "</details>"
   ]
  },
  {
   "cell_type": "markdown",
   "metadata": {
    "id": "f7edb136-45f0-4ff1-84d7-ff6bcc29dd43"
   },
   "source": [
    "**Question: Which categorical encoding approach did you use for each variable? Why?**"
   ]
  },
  {
   "cell_type": "markdown",
   "metadata": {
    "id": "qNl-29W8ejOX"
   },
   "source": [
    "Valuation - Label encoding was used because the labels are ordered.\n",
    "\n",
    "Continent - One hot encoding was used because there are few labels and they are not ordered.\n",
    "\n",
    "Country/Region - Label encoding was used because there are many labels, although they are not ordered.\n",
    "\n",
    "Industry - One hot encoding was used because there are few labels and they are not ordered."
   ]
  },
  {
   "cell_type": "markdown",
   "metadata": {
    "id": "c38f5e8d-89fa-4eaf-acd3-4841583e427c",
    "tags": []
   },
   "source": [
    "### Convert the top three unicorn investors to numeric"
   ]
  },
  {
   "cell_type": "markdown",
   "metadata": {
    "id": "adaf651d-dc84-40de-a37c-c819ac578d04"
   },
   "source": [
    "Create three dummy variables (one for each investor) that denotes if the following investors are included as `Select Investors`: Sequoia Capital, Tiger Global Management, and Accel.\n",
    "\n",
    "For the purpose of this lab, these investors are called the 'Big 3' unicorn investment groups."
   ]
  },
  {
   "cell_type": "code",
   "execution_count": 61,
   "metadata": {
    "id": "cf813c00-bc6e-4fb0-85b3-c6aa321872ab"
   },
   "outputs": [],
   "source": [
    "# Create a dummy variable that denotes if Sequoia Capital is a Select Investor.\n",
    "\n",
    "### YOUR CODE HERE ### \n",
    "companies['Sequoia Capital'] = companies['Select Investors'].str.contains('Sequoia Capital')\n",
    "companies['Sequoia Capital'] = companies['Sequoia Capital'].astype(int)\n",
    "\n"
   ]
  },
  {
   "cell_type": "code",
   "execution_count": 62,
   "metadata": {
    "id": "e9fc1988-e2c7-4622-85b9-551e7fe4e0b5"
   },
   "outputs": [],
   "source": [
    "# Create a dummy variable that denotes if Tiger Global Management is a Select Investor.\n",
    "\n",
    "### YOUR CODE HERE ### \n",
    "companies['Tiger Global Management'] = companies['Select Investors'].str.contains('Tiger Global Management')\n",
    "companies['Tiger Global Management'] = companies['Tiger Global Management'].astype(int)\n"
   ]
  },
  {
   "cell_type": "code",
   "execution_count": 63,
   "metadata": {
    "id": "833bbf0b-0419-42f0-b49b-5703d43b656b"
   },
   "outputs": [],
   "source": [
    "# Create a dummy variable that denotes if Accel is a Select Investor.\n",
    "\n",
    "### YOUR CODE HERE ### \n",
    "companies['Accel'] = companies['Select Investors'].str.contains('Accel')\n",
    "companies['Accel'] = companies['Accel'].astype(int)"
   ]
  },
  {
   "cell_type": "markdown",
   "metadata": {
    "id": "10f723ff-0c9c-481f-be09-0120ed265826"
   },
   "source": [
    "<details>\n",
    "  <summary><h4><strong>Hint 1</strong></h4></summary>\n",
    "\n",
    "For `Sequoia Capital`, check if the `Select Investors` column contains the string `'Sequoia Capital'`.\n",
    "    \n",
    "</details>"
   ]
  },
  {
   "cell_type": "markdown",
   "metadata": {
    "id": "4125a2d8-16d0-4bb3-bff5-285da4bf630d"
   },
   "source": [
    "<details>\n",
    "  <summary><h4><strong>Hint 2</strong></h4></summary>\n",
    "\n",
    "The `.str.contains()` function can determine whether a string contains a particular substring.\n",
    "    \n",
    "</details>"
   ]
  },
  {
   "cell_type": "markdown",
   "metadata": {
    "id": "fc59a733-9c97-45c8-8962-2594704842ca"
   },
   "source": [
    "<details>\n",
    "  <summary><h4><strong>Hint 3</strong></h4></summary>\n",
    "\n",
    "Once you've applied `.str.contains()` to `Select Investors`, convert the column to binary using `.astype(int)`.\n",
    "    \n",
    "</details>"
   ]
  },
  {
   "cell_type": "markdown",
   "metadata": {
    "id": "134ad302-4b98-4ae4-881f-3938734ccb64"
   },
   "source": [
    "**Question: How does label encoding change the data?**"
   ]
  },
  {
   "cell_type": "markdown",
   "metadata": {
    "id": "6521afba-1475-44cd-9f23-a05e973d53bd"
   },
   "source": [
    "Label encoding changes the data by assigning each category a unique number instead of a qualitative value."
   ]
  },
  {
   "cell_type": "markdown",
   "metadata": {
    "id": "93504377-6ae2-444c-8bc6-4930784f8714"
   },
   "source": [
    "**Question: What are the benefits of label encoding?**"
   ]
  },
  {
   "cell_type": "markdown",
   "metadata": {
    "id": "7e51cb8b-79d0-4cec-b4fa-8e886fde1549"
   },
   "source": [
    "Label encoding is effective when there are a large number of categorical variables and when the variables have a particular order. It is useful in machine learning models, such as decision trees and random forests."
   ]
  },
  {
   "cell_type": "markdown",
   "metadata": {
    "id": "493fead8-2986-420e-a1ed-ad9b2109ef0a"
   },
   "source": [
    "**Question: What are the disadvantages of label encoding?**"
   ]
  },
  {
   "cell_type": "markdown",
   "metadata": {
    "id": "f2aed847-480a-491e-b01a-f7c942026905"
   },
   "source": [
    "Label encoding may make it more difficult to directly interpet what a column value represents. Further, it may introduce an unintended relationship between the categorical data in a dataset."
   ]
  },
  {
   "cell_type": "markdown",
   "metadata": {
    "id": "70f7857a-82b7-4f74-b8cb-09aa3f44022d"
   },
   "source": [
    "## Step 3: Model building"
   ]
  },
  {
   "cell_type": "markdown",
   "metadata": {
    "id": "7402a259-e41c-4892-8660-5cef8e6a5b39"
   },
   "source": [
    "Create three bar plots to visualize the distribution of investments by industry for the following unicorn investors: Sequoia Capital, Tiger Global Management, and Accel."
   ]
  },
  {
   "cell_type": "code",
   "execution_count": 71,
   "metadata": {
    "id": "2aa9954e-ae9a-4922-a047-af96b0c6becc"
   },
   "outputs": [
    {
     "data": {
      "image/png": "[encoded data removed]",
      "text/plain": [
       "<Figure size 1152x360 with 3 Axes>"
      ]
     },
     "metadata": {
      "needs_background": "light"
     },
     "output_type": "display_data"
    }
   ],
   "source": [
    "# Create 3 bar plots for the distribution of investments by industry for each top unicorn investors.\n",
    "\n",
    "### YOUR CODE HERE ### \n",
    "fig,axes = plt.subplots(1,3,figsize=(16,5))\n",
    "\n",
    "idx=0\n",
    "\n",
    "for i in ['Sequoia Capital', 'Tiger Global Management', 'Accel']:\n",
    "    companies_sample = companies[companies[i]==1]\n",
    "    \n",
    "    companies_sample = companies['Industry'].value_counts()\n",
    "    \n",
    "    sns.barplot(x=companies_sample.index,\n",
    "              y=companies_sample.values,\n",
    "              ax=axes[idx]) \n",
    "\n",
    " # Set title\n",
    "    axes[idx].set_title(i)\n",
    "\n",
    "    # Set x-axis label\n",
    "    axes[idx].set_xlabel(\"Industry\")\n",
    "\n",
    "    # Set y-axis label\n",
    "    axes[idx].set_ylabel(\"Number of invested companies\")\n",
    "\n",
    "    # Rotate labels on the x-axis\n",
    "    axes[idx].set_xticklabels(companies_sample.index, rotation=90);\n",
    "\n",
    "    # Add 1 to idx so on the next loop it changes to the next plot\n",
    "    idx +=1\n",
    "\n",
    "# Set the title of the whole plot\n",
    "plt.suptitle('Distribution of Investments by Largest Unicorn Investors', fontsize = 14);"
   ]
  },
  {
   "cell_type": "markdown",
   "metadata": {
    "id": "b86761e0-4937-482b-8990-d5b25a5ea17a"
   },
   "source": [
    "<details>\n",
    "  <summary><h4><strong>Hint 1</strong></h4></summary>\n",
    "\n",
    "Generate three seperate figures or use the `subplot()` function to put all plots on one figure.\n",
    "   \n",
    "</details>"
   ]
  },
  {
   "cell_type": "markdown",
   "metadata": {
    "id": "f808119a-3f52-4ebb-9cc9-c364b6a9da52"
   },
   "source": [
    "<details>\n",
    "  <summary><h4><strong>Hint 2</strong></h4></summary>\n",
    "\n",
    "For each plot, filter the data to only inlcude companies invested in by that unicorn investor. \n",
    "    \n",
    "Use `value_counts()` to calculate the distribution of `Industry` in the subsetted data.\n",
    "    \n",
    "</details>"
   ]
  },
  {
   "cell_type": "markdown",
   "metadata": {
    "id": "f2be746b-fd64-4a65-bce9-bca48b60dbca"
   },
   "source": [
    "<details>\n",
    "  <summary><h4><strong>Hint 3</strong></h4></summary>\n",
    "\n",
    "First, apply `value_counts()` to the `Industry` column in the subsetted data, Then, access the `x` values for the bar plot using `.index` from the `value_counts()` Series output and access the `y` values using `.values`.\n",
    "    \n",
    "</details>"
   ]
  },
  {
   "cell_type": "markdown",
   "metadata": {
    "id": "b5df84d1-7c1e-4e74-8bce-ddda54889a94"
   },
   "source": [
    "**Question: What do you notice about the industries invested in by each top unicorn investor?**"
   ]
  },
  {
   "cell_type": "markdown",
   "metadata": {
    "id": "8bd0c941-9c61-4cce-8107-0963fc51d081"
   },
   "source": [
    "The three industries most commonly invested in by the top unicorn investors are: internet software and services, fintech, and e-commerce and direct-to-consumer.\n",
    "\n",
    "Other insights include:\n",
    "\n",
    "-Sequoia Capital is the only top unicorn investor to invest in travel unicorns.\n",
    "-Tiger Global Management is the only top unicorn investor to not invest in supply chain and logistics.\n",
    "-Accel has invested in more cybersecurity unicorns than Sequoia Capital and Tiger Global Management."
   ]
  },
  {
   "cell_type": "markdown",
   "metadata": {
    "id": "65c0c8cb-2d2e-4353-bd55-b7193fb02b5c"
   },
   "source": [
    "### Continents \n",
    "\n",
    "Create a visualization that shows the continents of the unicorns invested in by the top three unicorn investors."
   ]
  },
  {
   "cell_type": "code",
   "execution_count": 75,
   "metadata": {
    "id": "ea264ea5-4ad5-4790-84a7-2eade806e3e2"
   },
   "outputs": [
    {
     "data": {
      "image/png": "[encoded data removed]",
      "text/plain": [
       "<Figure size 1152x360 with 3 Axes>"
      ]
     },
     "metadata": {
      "needs_background": "light"
     },
     "output_type": "display_data"
    }
   ],
   "source": [
    "# Visualize the continents invested in by the top three unicorn investors.\n",
    "\n",
    "### YOUR CODE HERE ### \n",
    "\n",
    "# Create a 1x3 plot figure\n",
    "fig, axes = plt.subplots(1, 3, figsize = (16,5))\n",
    "\n",
    "# Setting a variable to count which axis the plot should go on\n",
    "idx = 0\n",
    "\n",
    "# Loop through a list of the three top unicorn investors\n",
    "for i in ['Sequoia Capital', 'Tiger Global Management', 'Accel']:\n",
    "    \n",
    "    # Compute the number of companies invested in in each industry by c\n",
    "    companies_sample = companies[companies[i] == 1]\n",
    "    \n",
    "    # Calculate the distribution of Continent\n",
    "    companies_sample = companies_sample['Continent'].value_counts()\n",
    "    \n",
    "    # Add Oceania as index with value 0 if not present in companies_sample\n",
    "    if 'Oceania' not in companies_sample.index:\n",
    "        companies_sample['Oceania'] = 0\n",
    "        \n",
    "    # Add Africa as index with value 0 if not present companies_sample\n",
    "    if 'Africa' not in companies_sample.index:\n",
    "        companies_sample['Africa'] = 0\n",
    "        \n",
    "    # Sort the index so the x axis for all plot is in alphabetical order\n",
    "    companies_sample = companies_sample.sort_index()\n",
    "    \n",
    "    # Create a bar plot\n",
    "    sns.barplot(\n",
    "        x=companies_sample.index, \n",
    "        y=companies_sample.values, \n",
    "        ax=axes[idx])\n",
    "\n",
    "    # Set title\n",
    "    axes[idx].set_title(i)\n",
    "\n",
    "    # Set y range so all plots have same range\n",
    "    axes[idx].set(ylim=(0, 80))\n",
    "\n",
    "    # Set y-axis label\n",
    "    axes[idx].set_ylabel(\"Number of invested companies\")\n",
    "\n",
    "    # Rotate labels on the x-axis\n",
    "    axes[idx].set_xticklabels(companies_sample.index, rotation=90);\n",
    "\n",
    "    # Add 1 to idx so on the next loop it changes ot the next plot\n",
    "    idx +=1\n",
    "\n",
    "# Set the title of the whole plot\n",
    "plt.suptitle('Location of Investments by Largest Unicorn Investors', fontsize = 14);\n",
    "\n"
   ]
  },
  {
   "cell_type": "markdown",
   "metadata": {
    "id": "6128713b-c0a3-478a-bd61-79edb2454890",
    "jp-MarkdownHeadingCollapsed": true,
    "tags": []
   },
   "source": [
    "<details>\n",
    "  <summary><h4><strong>Hint 1</strong></h4></summary>\n",
    "\n",
    "Use steps from the previous exercise as a starting point.\n",
    "    \n",
    "</details>"
   ]
  },
  {
   "cell_type": "markdown",
   "metadata": {
    "id": "c53250bc-ae57-49d5-8e4c-c5a7a23983f1"
   },
   "source": [
    "<details>\n",
    "  <summary><h4><strong>Hint 2</strong></h4></summary>\n",
    "\n",
    "Use a similar approach to the previous problem, but select `Continent` on the x-axis instead of `Industry`.\n",
    "    \n",
    "</details>"
   ]
  },
  {
   "cell_type": "markdown",
   "metadata": {
    "id": "8058e4a9-a322-4e07-9d39-b18c7a60f88f"
   },
   "source": [
    "<details>\n",
    "  <summary><h4><strong>Hint 3</strong></h4></summary>\n",
    "\n",
    "It is helpful (though unneccessary) to standardize the x labels and y range for all three plots for easy comparison.\n",
    "    \n",
    "</details>"
   ]
  },
  {
   "cell_type": "markdown",
   "metadata": {
    "id": "6847a0fb-13be-4add-a8b6-e317dd57d886"
   },
   "source": [
    "**Question: What do you notice about the continents invested in by each top unicorn investor?**"
   ]
  },
  {
   "cell_type": "markdown",
   "metadata": {
    "id": "038038e6-5fce-46e3-a88d-0ae806e4803c"
   },
   "source": [
    "Sequoia Capital has a much stronger focus on unicorn companies in Asia than the other investors. The majority of unicorns invested in by Tiger Global Management and Accel are in North America.\n",
    "\n",
    "Sequoia Capital is the only investor that invested in a unicorn company in Africa. Accel is the only investor to not have any unicorn company investments in Oceania."
   ]
  },
  {
   "cell_type": "markdown",
   "metadata": {
    "id": "gq9Syq-Cq1zb"
   },
   "source": [
    "## Step 4: Results and evaluation"
   ]
  },
  {
   "cell_type": "markdown",
   "metadata": {
    "id": "72d25c77-d9db-4968-9fe2-d9db8804ba53"
   },
   "source": [
    "Your client wants to know if there are particular investment strategies for the three large unicorn investors: Sequoia Capital, Tiger Global Management, and Accel. Therefore, consider how you would present your findings and whether the business will find that information insightful."
   ]
  },
  {
   "cell_type": "markdown",
   "metadata": {
    "id": "e62f9055-2005-41fd-a885-b7a5900c50e2"
   },
   "source": [
    "### Calculate the average `Years to Unicorn` "
   ]
  },
  {
   "cell_type": "code",
   "execution_count": 92,
   "metadata": {
    "id": "b5e6b9c9-7187-4a50-ae41-788054a4e742"
   },
   "outputs": [
    {
     "name": "stdout",
     "output_type": "stream",
     "text": [
      "Mean Years to Unicorn for Sequoia Capital:\n",
      "6.570247933884297\n",
      "Mean Years to Unicorn for Tiger Global Management:\n",
      "7.264150943396227\n",
      "Mean Years to Unicorn for Accel:\n",
      "6.895522388059701\n"
     ]
    }
   ],
   "source": [
    "# Compute the mean Years to Unicorn for unicorn companies invested in by Sequoia Capital.\n",
    "\n",
    "### YOUR CODE HERE ### \n",
    "print('Mean Years to Unicorn for Sequoia Capital:')\n",
    "print(companies[companies['Sequoia Capital']==1]['Years To Unicorn'].mean())\n",
    "\n",
    "\n",
    "# Compute the mean Years to Unicorn for unicorn companies invested in by Tiger Global Management.\n",
    "\n",
    "### YOUR CODE HERE ### \n",
    "print('Mean Years to Unicorn for Tiger Global Management:')\n",
    "print(companies[companies['Tiger Global Management']==1]['Years To Unicorn'].mean())\n",
    "\n",
    "\n",
    "# Compute the mean Years to Unicorn for unicorn companies invested in by Accel.\n",
    "\n",
    "### YOUR CODE HERE ### \n",
    "print('Mean Years to Unicorn for Accel:')\n",
    "print(companies[companies['Accel']==1]['Years To Unicorn'].mean())\n"
   ]
  },
  {
   "cell_type": "markdown",
   "metadata": {
    "id": "600a3c55-4e09-4df1-bef6-182d755accd4"
   },
   "source": [
    "<details>\n",
    "  <summary><h4><strong>Hint 1</strong></h4></summary>\n",
    "\n",
    "Subset the data to only include companies invested in by that particular unicorn investor.\n",
    "    \n",
    "</details>"
   ]
  },
  {
   "cell_type": "markdown",
   "metadata": {
    "id": "a92a4056-e110-497c-a6ed-bb49d0445059"
   },
   "source": [
    "<details>\n",
    "  <summary><h4><strong>Hint 2</strong></h4></summary>\n",
    "\n",
    "Once you've computed the mean `Years To Unicorn` for one investor, reuse that code to calculate the averages for the other investors. \n",
    "    \n",
    "</details>"
   ]
  },
  {
   "cell_type": "markdown",
   "metadata": {
    "id": "c9c3c6b0-7164-49c3-8bdb-3f7e34168292"
   },
   "source": [
    "<details>\n",
    "  <summary><h4><strong>Hint 3</strong></h4></summary>\n",
    "\n",
    "Apply `.mean()` to the `Years To Unicorn` in the data subset for each investment company.\n",
    "    \n",
    "</details>"
   ]
  },
  {
   "cell_type": "markdown",
   "metadata": {
    "id": "K_JsHyxnYlpq"
   },
   "source": [
    "**Question: Of the three top unicorn investors, which has the shortest average `Years to Unicorn`?**"
   ]
  },
  {
   "cell_type": "markdown",
   "metadata": {
    "id": "nCy1BviRYlsL"
   },
   "source": [
    "On average, the companies invested in by Sequoia Capital reached unicorn status faster than those invested in by Tiger Global Management and Accel. They average 6.6 years between founding and reaching unicorn status."
   ]
  },
  {
   "cell_type": "markdown",
   "metadata": {
    "id": "96b5ed0b-c40f-48e2-aedc-520b513f9202"
   },
   "source": [
    "### Find the three companies with the highest `Valuation` "
   ]
  },
  {
   "cell_type": "code",
   "execution_count": 99,
   "metadata": {
    "id": "a129cab1-8f14-4ab2-b2ee-0e452a3d22ed"
   },
   "outputs": [
    {
     "name": "stdout",
     "output_type": "stream",
     "text": [
      "Highest valued unicorns invested in by Sequoia Capital:\n",
      "['Bytedance' 'SHEIN' 'Klarna']\n",
      "Highest valued unicorns invested in by Tiger Global Management\n",
      "['SHEIN' 'Checkout.com' 'JUUL Labs']\n",
      "Highest valued unicorns invested in by Accel\n",
      "['Miro' 'goPuff' 'Celonis']\n"
     ]
    }
   ],
   "source": [
    "# Sort companies by Valuation in descending order\n",
    "\n",
    "### YOUR CODE HERE ### \n",
    "\n",
    "companies = companies.sort_values(by = 'Valuation', ascending=False)\n",
    "\n",
    "\n",
    "# Calculate the 3 companies with the highest valuation invested in by Sequoia Capital.\n",
    "### YOUR CODE HERE ### \n",
    "\n",
    "print('Highest valued unicorns invested in by Sequoia Capital:')\n",
    "\n",
    "print(companies[companies['Sequoia Capital']==1]['Company'].values[:3])\n",
    "\n",
    "#Calculate the 3 companies with the highest valuation invested in by Tiger Global Management\n",
    "print('Highest valued unicorns invested in by Tiger Global Management')\n",
    "\n",
    "print(companies[companies['Tiger Global Management']==1]['Company'].values[:3])\n",
    "\n",
    "\n",
    "#Calculate the 3 companies with the highest valuation invested in by Accel\n",
    "print('Highest valued unicorns invested in by Accel')\n",
    "\n",
    "print(companies[companies['Accel']==1]['Company'].values[:3])\n"
   ]
  },
  {
   "cell_type": "markdown",
   "metadata": {
    "id": "d41d010f-9bd5-43d2-8aee-6f9452551d96",
    "jp-MarkdownHeadingCollapsed": true,
    "tags": []
   },
   "source": [
    "<details>\n",
    "  <summary><h4><strong>Hint 1</strong></h4></summary>\n",
    "\n",
    "Sort the full `companies` data by `Valuation`.\n",
    "    \n",
    "</details>"
   ]
  },
  {
   "cell_type": "markdown",
   "metadata": {
    "id": "c4ccc310-6e43-497f-9638-1a1a5d8a8ef7",
    "jp-MarkdownHeadingCollapsed": true,
    "tags": []
   },
   "source": [
    "<details>\n",
    "  <summary><h4><strong>Hint 2</strong></h4></summary>\n",
    "\n",
    "When filtering `companies`, the filtered data will retain any sorting applied.\n",
    "    \n",
    "</details>"
   ]
  },
  {
   "cell_type": "markdown",
   "metadata": {
    "id": "f47132b5-d350-42a4-be09-e9f0952a8f1d"
   },
   "source": [
    "<details>\n",
    "  <summary><h4><strong>Hint 3</strong></h4></summary>\n",
    "\n",
    "Subset the data to only include unicorns invested in by that particular investment company. Then, use `['Company'].values[:3]` to access the first three companies.\n",
    "    \n",
    "</details>"
   ]
  },
  {
   "cell_type": "markdown",
   "metadata": {
    "id": "XadS_M07ajfF"
   },
   "source": [
    "**Question: What are the three companies with the highest `Valuation` invested in by each of the top three unicorn investors?**"
   ]
  },
  {
   "cell_type": "markdown",
   "metadata": {
    "id": "iZ-OObR1ajhh"
   },
   "source": [
    "The investments with the highest valuation by Sequoia Capital are Bytedance, SHEIN, and Klarna. The investments with the highest valuation by Tiger Global Management are SHEIN, Checkout.com, and JUUL Labs. The investments with the highest valuation by Accel are Miro, goPuff, and Celonis."
   ]
  },
  {
   "cell_type": "markdown",
   "metadata": {
    "id": "407f9e5e-77ae-4d10-b3f7-e12e4758b785"
   },
   "source": [
    "**Question: Why might it be helpful to provide the business with examples of the unicorns invested in by the top three unicorn investors?**"
   ]
  },
  {
   "cell_type": "markdown",
   "metadata": {
    "id": "0a36b2c1-75ec-4a28-8a31-865017f21a82"
   },
   "source": [
    "It will help them gain context for the types of companies the top unicorn investment firms invest in."
   ]
  },
  {
   "cell_type": "markdown",
   "metadata": {
    "id": "4209cfdb-fa51-473c-bbc3-0e425c3644f9"
   },
   "source": [
    "### Determine if the three companies invest simultaneously"
   ]
  },
  {
   "cell_type": "code",
   "execution_count": 105,
   "metadata": {
    "id": "90eec42c-9c4f-4215-bbda-e367a619b2be"
   },
   "outputs": [
    {
     "name": "stdout",
     "output_type": "stream",
     "text": [
      "Number of unicorns with two or more of the Big 3 Investors: \n",
      "18\n",
      "Companies\n",
      "['SHEIN' 'Getir' 'DJI Innovations' 'Razorpay' 'CRED' 'Ola Cabs'\n",
      " 'ChargeBee Technologies' 'Ironclad' 'Groww' 'Infra.Market' 'Zetwerk'\n",
      " 'Ethos' 'CoinSwitch Kuber' 'Veriff' 'Zenoti' 'Vedantu'\n",
      " 'Five Star Business Finance' 'CaptivateIQ']\n"
     ]
    }
   ],
   "source": [
    "# Find companies invested in by two or more top unicorn investors.\n",
    "\n",
    "\n",
    "### YOUR CODE HERE ### \n",
    "\n",
    "# Create a new column that counts the number of investments by the top three unicorn investors\n",
    "companies['Big 3 Investors'] = companies['Sequoia Capital'] + companies['Tiger Global Management'] + companies['Accel']\n",
    "\n",
    "# Create a new DataFrame that only includes companies with 2 or more investments by the top three unicorn investors\n",
    "top_companies = companies[companies['Big 3 Investors'] >= 2]\n",
    "\n",
    "# Create a list of the companies in top_companies\n",
    "top_companies_list = companies[companies['Big 3 Investors'] >= 2]['Company'].values\n",
    "\n",
    "# Display the results\n",
    "print('Number of unicorns with two or more of the Big 3 Investors: ')\n",
    "print(len(top_companies_list))\n",
    "\n",
    "print('Companies')\n",
    "print(top_companies_list)"
   ]
  },
  {
   "cell_type": "markdown",
   "metadata": {
    "id": "430076d9-f08c-44da-bca6-ac99283e3c62"
   },
   "source": [
    "<details>\n",
    "  <summary><h4><strong>Hint 1</strong></h4></summary>\n",
    "\n",
    "Some variables that have already been created can help complete this task.\n",
    "    \n",
    "</details>"
   ]
  },
  {
   "cell_type": "markdown",
   "metadata": {
    "id": "853fed67-6ea2-435d-8cb4-e52d31cbebd8"
   },
   "source": [
    "<details>\n",
    "  <summary><h4><strong>Hint 2</strong></h4></summary>\n",
    "\n",
    "Create a new column in `companies` that counts the number of the top three unicorn investors that invested in it.\n",
    "    \n",
    "</details>"
   ]
  },
  {
   "cell_type": "markdown",
   "metadata": {
    "id": "4769221f-e2b1-4328-a70a-e57adfb8a664"
   },
   "source": [
    "<details>\n",
    "  <summary><h4><strong>Hint 3</strong></h4></summary>\n",
    "\n",
    "The following code creates a new column, called `Big 3 Investors`, that counts how many of `Sequoia Capital`, `Tiger Global Management`, and `Accel` invested in each unicorn company.\n",
    "    \n",
    "`companies['Big 3 Investors'] = companies['Sequoia Capital'] + companies['Tiger Global Management'] + companies['Accel']`\n",
    "    \n",
    "Filter for unicorns with multiple `Big 3 Investors` using `companies[companies['Big 3 Investors'] >= 2]`.\n",
    "</details>"
   ]
  },
  {
   "cell_type": "markdown",
   "metadata": {
    "id": "bMsZykuiZDWW"
   },
   "source": [
    "**Question: Do the top three investors invest in the same unicorn companies? If so, how often?**"
   ]
  },
  {
   "cell_type": "markdown",
   "metadata": {
    "id": "0g88UHSjZHjj"
   },
   "source": [
    "There are 18 companies invested in by two of three unicorn investment firms at any given time: SHEIN, Getir, and Razorpay."
   ]
  },
  {
   "cell_type": "markdown",
   "metadata": {
    "id": "c77e7f0f-d2b9-4464-8a7c-9575d1e1ef9f"
   },
   "source": [
    "## Conclusion\n",
    "\n",
    "**What are the key takeaways from this lab?**\n",
    "\n",
    "Input validation is essential for ensuring data is high quality and error-free.\n",
    "In practice, input validation requires trial and error to identify issues and determine the best way to fix them.\n",
    "There are benefits and disadvantages to both label encoding and one hot encoding.\n",
    "The decision to use label encoding versus one hot encoding needs to be made on a case-by-case basis.\n",
    "\n",
    "\n",
    "**What summary would you provide to stakeholders? Consider industries represented, locations, speed to unicorn status, simultaneous investments, and overall value.**\n",
    "\n",
    "Sequoia Capital, Tiger Global Management, and Accel invest in several industries, but the majority of investments are in internet software and services, fintech, and e-commerce and direct-to-consumer companies.\n",
    "Sequoia Capital has a stronger focus on unicorn companies in Asia than the other top unicorn investors. The majority of unicorns invested in by Tiger Global Management and Accel are in North America.\n",
    "The companies invested in by Sequoia Capital reached unicorn status faster than those invested in by Tiger Global Management and Accel, at an average of 6.6 years between founding and reaching unicorn status.\n",
    "There are 18 companies invested in simultaneously by two of the top three unicorn investment firms.\n",
    "The highest-valued unicorns invested in by Sequoia Capital are Bytedance, SHEIN, and Klarna. The highest-valued unicorns invested in by Tiger Global Management are SHEIN, Checkout.com, and JUUL Labs. The highest-valued unicorns invested in by Accel are Miro, goPuff, and Celonis.\n"
   ]
  },
  {
   "cell_type": "markdown",
   "metadata": {
    "id": "R9sAADZgr-YI"
   },
   "source": [
    "**Reference**\n",
    "\n",
    "[Bhat, M.A. *Unicorn Companies*](https://www.kaggle.com/datasets/mysarahmadbhat/unicorn-companies)\n",
    "\n"
   ]
  }
 ],
 "metadata": {
  "colab": {
   "collapsed_sections": [],
   "provenance": []
  },
  "kernelspec": {
   "display_name": "Python 3",
   "language": "python",
   "name": "python3"
  },
  "language_info": {
   "codemirror_mode": {
    "name": "ipython",
    "version": 3
   },
   "file_extension": ".py",
   "mimetype": "text/x-python",
   "name": "python",
   "nbconvert_exporter": "python",
   "pygments_lexer": "ipython3",
   "version": "3.7.6"
  },
  "toc-autonumbering": false,
  "toc-showtags": false
 },
 "nbformat": 4,
 "nbformat_minor": 5
}
